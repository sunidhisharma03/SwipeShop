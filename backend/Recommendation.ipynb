{
 "cells": [
  {
   "cell_type": "code",
   "execution_count": 1,
   "metadata": {},
   "outputs": [],
   "source": [
    "import numpy as np\n",
    "from sklearn.metrics.pairwise import cosine_similarity\n",
    "\n",
    "def time_decay_function(t):\n",
    "    epsilon = 0.01\n",
    "    return 1 / (1 + epsilon * t)\n",
    "\n",
    "def calculate_similarity(user_video_matrix, timestamps):\n",
    "    similarity_matrix = cosine_similarity(user_video_matrix)\n",
    "    for i in range(len(similarity_matrix)):\n",
    "        for j in range(len(similarity_matrix[i])):\n",
    "            time_diff = abs(timestamps[i] - timestamps[j])\n",
    "            similarity_matrix[i][j] *= time_decay_function(time_diff)\n",
    "    return similarity_matrix"
   ]
  },
  {
   "cell_type": "code",
   "execution_count": 2,
   "metadata": {},
   "outputs": [],
   "source": [
    "def calculate_user_context_score(item_context_matrix, user_context):\n",
    "    context_scores = np.dot(item_context_matrix, user_context)\n",
    "    return context_scores"
   ]
  },
  {
   "cell_type": "code",
   "execution_count": 3,
   "metadata": {},
   "outputs": [],
   "source": [
    "def hybrid_recommendation(user_id, user_video_matrix, timestamps, item_context_matrix, user_context, top_k=10):\n",
    "    ti_cf_scores = calculate_similarity(user_video_matrix, timestamps)\n",
    "    uf_cf_scores = calculate_user_context_score(item_context_matrix, user_context)\n",
    "    \n",
    "    final_scores = 0.8 * ti_cf_scores + 0.2 * uf_cf_scores\n",
    "    top_recommendations = np.argsort(final_scores[user_id])[-top_k:]\n",
    "    \n",
    "    return top_recommendations\n"
   ]
  },
  {
   "cell_type": "code",
   "execution_count": null,
   "metadata": {},
   "outputs": [],
   "source": [
    "    "
   ]
  }
 ],
 "metadata": {
  "kernelspec": {
   "display_name": "Python 3",
   "language": "python",
   "name": "python3"
  },
  "language_info": {
   "codemirror_mode": {
    "name": "ipython",
    "version": 3
   },
   "file_extension": ".py",
   "mimetype": "text/x-python",
   "name": "python",
   "nbconvert_exporter": "python",
   "pygments_lexer": "ipython3",
   "version": "3.11.9"
  }
 },
 "nbformat": 4,
 "nbformat_minor": 2
}
